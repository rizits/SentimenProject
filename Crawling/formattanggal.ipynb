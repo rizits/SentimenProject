{
 "cells": [
  {
   "cell_type": "code",
   "execution_count": 13,
   "metadata": {},
   "outputs": [],
   "source": [
    "import pandas as pd\n",
    "from datetime import datetime, timedelta"
   ]
  },
  {
   "cell_type": "code",
   "execution_count": 3,
   "metadata": {},
   "outputs": [],
   "source": [
    "df = pd.read_csv('bisnis-crawler_articles.csv')"
   ]
  },
  {
   "cell_type": "code",
   "execution_count": 4,
   "metadata": {},
   "outputs": [
    {
     "data": {
      "text/plain": [
       "Title                 0\n",
       "Scrapping Date        0\n",
       "Article Date          0\n",
       "Author            17228\n",
       "Link                  0\n",
       "Content           15881\n",
       "dtype: int64"
      ]
     },
     "execution_count": 4,
     "metadata": {},
     "output_type": "execute_result"
    }
   ],
   "source": [
    "df.isna().sum()"
   ]
  },
  {
   "cell_type": "code",
   "execution_count": 7,
   "metadata": {},
   "outputs": [],
   "source": [
    "df = df.dropna(subset=['Content'])"
   ]
  },
  {
   "cell_type": "code",
   "execution_count": 8,
   "metadata": {},
   "outputs": [
    {
     "name": "stdout",
     "output_type": "stream",
     "text": [
      "<class 'pandas.core.frame.DataFrame'>\n",
      "Index: 93722 entries, 0 to 109602\n",
      "Data columns (total 6 columns):\n",
      " #   Column          Non-Null Count  Dtype \n",
      "---  ------          --------------  ----- \n",
      " 0   Title           93722 non-null  object\n",
      " 1   Scrapping Date  93722 non-null  object\n",
      " 2   Article Date    93722 non-null  object\n",
      " 3   Author          91805 non-null  object\n",
      " 4   Link            93722 non-null  object\n",
      " 5   Content         93722 non-null  object\n",
      "dtypes: object(6)\n",
      "memory usage: 5.0+ MB\n"
     ]
    }
   ],
   "source": [
    "df.info()"
   ]
  },
  {
   "cell_type": "code",
   "execution_count": 14,
   "metadata": {},
   "outputs": [],
   "source": [
    "def convert_date_format(row):\n",
    "    date_str = row['Article Date']\n",
    "    scrapping_date_str = row['Scrapping Date']\n",
    "    \n",
    "    # Convert Scrapping Date to datetime object\n",
    "    scrapping_date = pd.to_datetime(scrapping_date_str)\n",
    "\n",
    "    # Handle relative time formats like \"6 jam yang lalu\"\n",
    "    if 'jam yang lalu' in date_str:\n",
    "        hours_ago = int(date_str.split()[0])  # Extract the number of hours\n",
    "        date_obj = scrapping_date - timedelta(hours=hours_ago)\n",
    "        return date_obj.strftime('%Y-%m-%d')\n",
    "    \n",
    "    # Handle absolute date formats\n",
    "    else:\n",
    "        # Remove 'WIB' from the date string and strip any surrounding whitespace\n",
    "        date_str = date_str.replace('WIB', '').strip()\n",
    "        \n",
    "        try:\n",
    "            # Convert the date string to a datetime object\n",
    "            date_obj = pd.to_datetime(date_str, format='%d %B %Y %H:%M')\n",
    "            # Return the date in YYYY-MM-DD format\n",
    "            return date_obj.strftime('%Y-%m-%d')\n",
    "        except ValueError:\n",
    "            # Handle any exceptions, for instance if the date_str is not in the expected format\n",
    "            return pd.NaT"
   ]
  },
  {
   "cell_type": "code",
   "execution_count": 15,
   "metadata": {},
   "outputs": [],
   "source": [
    "df['Article Date'] = df.apply(convert_date_format, axis=1)"
   ]
  },
  {
   "cell_type": "code",
   "execution_count": 16,
   "metadata": {},
   "outputs": [],
   "source": [
    "# Save the DataFrame to a new format\n",
    "df.to_csv('bisnis-crawler_dateprocess.csv', index=False)"
   ]
  },
  {
   "cell_type": "code",
   "execution_count": 17,
   "metadata": {},
   "outputs": [
    {
     "data": {
      "text/html": [
       "<div>\n",
       "<style scoped>\n",
       "    .dataframe tbody tr th:only-of-type {\n",
       "        vertical-align: middle;\n",
       "    }\n",
       "\n",
       "    .dataframe tbody tr th {\n",
       "        vertical-align: top;\n",
       "    }\n",
       "\n",
       "    .dataframe thead th {\n",
       "        text-align: right;\n",
       "    }\n",
       "</style>\n",
       "<table border=\"1\" class=\"dataframe\">\n",
       "  <thead>\n",
       "    <tr style=\"text-align: right;\">\n",
       "      <th></th>\n",
       "      <th>Title</th>\n",
       "      <th>Scrapping Date</th>\n",
       "      <th>Article Date</th>\n",
       "      <th>Author</th>\n",
       "      <th>Link</th>\n",
       "      <th>Content</th>\n",
       "    </tr>\n",
       "  </thead>\n",
       "  <tbody>\n",
       "    <tr>\n",
       "      <th>0</th>\n",
       "      <td>Katalis Emiten Infrastruktur dan Kesehatan dar...</td>\n",
       "      <td>2024-08-19T18:33:16.236Z</td>\n",
       "      <td>2024-08-19</td>\n",
       "      <td>Annisa Kurniasari Saumi</td>\n",
       "      <td>https://search.bisnis.com/link?url=https%3A%2F...</td>\n",
       "      <td>Bisnis.com, JAKARTA -- Presiden Joko Widodo (J...</td>\n",
       "    </tr>\n",
       "    <tr>\n",
       "      <th>1</th>\n",
       "      <td>Rupiah Menguat, BI: Modal Asing Rp9,67 Triliun...</td>\n",
       "      <td>2024-08-19T18:33:16.696Z</td>\n",
       "      <td>2024-08-17</td>\n",
       "      <td>Annasa Rizki Kamalina</td>\n",
       "      <td>https://search.bisnis.com/link?url=https%3A%2F...</td>\n",
       "      <td>Bisnis.com, JAKARTA – Bank Indonesia (BI) menc...</td>\n",
       "    </tr>\n",
       "    <tr>\n",
       "      <th>2</th>\n",
       "      <td>Jelang Pembacaan Nota Keuangan Jokowi, Apa Har...</td>\n",
       "      <td>2024-08-19T18:33:17.041Z</td>\n",
       "      <td>2024-08-16</td>\n",
       "      <td>Annisa Kurniasari Saumi</td>\n",
       "      <td>https://search.bisnis.com/link?url=https%3A%2F...</td>\n",
       "      <td>Bisnis.com, JAKARTA — Presiden Joko Widodo (Jo...</td>\n",
       "    </tr>\n",
       "    <tr>\n",
       "      <th>3</th>\n",
       "      <td>Melemahnya Investasi Sebabkan Kontraksi PDB Se...</td>\n",
       "      <td>2024-08-19T18:33:17.423Z</td>\n",
       "      <td>2024-08-13</td>\n",
       "      <td>Akbar Maulana al Ishaqi</td>\n",
       "      <td>https://search.bisnis.com/link?url=https%3A%2F...</td>\n",
       "      <td>Bisnis.com, JAKARTA -- Praktisi Asuransi Syari...</td>\n",
       "    </tr>\n",
       "    <tr>\n",
       "      <th>4</th>\n",
       "      <td>Sri Mulyani: Modal Asing Tetap Masuk RI meski ...</td>\n",
       "      <td>2024-08-19T18:33:17.770Z</td>\n",
       "      <td>2024-08-13</td>\n",
       "      <td>Annasa Rizki Kamalina</td>\n",
       "      <td>https://search.bisnis.com/link?url=https%3A%2F...</td>\n",
       "      <td>Bisnis.com, JAKARTA — Menteri Keuangan Sri Mul...</td>\n",
       "    </tr>\n",
       "  </tbody>\n",
       "</table>\n",
       "</div>"
      ],
      "text/plain": [
       "                                               Title  \\\n",
       "0  Katalis Emiten Infrastruktur dan Kesehatan dar...   \n",
       "1  Rupiah Menguat, BI: Modal Asing Rp9,67 Triliun...   \n",
       "2  Jelang Pembacaan Nota Keuangan Jokowi, Apa Har...   \n",
       "3  Melemahnya Investasi Sebabkan Kontraksi PDB Se...   \n",
       "4  Sri Mulyani: Modal Asing Tetap Masuk RI meski ...   \n",
       "\n",
       "             Scrapping Date Article Date                   Author  \\\n",
       "0  2024-08-19T18:33:16.236Z   2024-08-19  Annisa Kurniasari Saumi   \n",
       "1  2024-08-19T18:33:16.696Z   2024-08-17    Annasa Rizki Kamalina   \n",
       "2  2024-08-19T18:33:17.041Z   2024-08-16  Annisa Kurniasari Saumi   \n",
       "3  2024-08-19T18:33:17.423Z   2024-08-13  Akbar Maulana al Ishaqi   \n",
       "4  2024-08-19T18:33:17.770Z   2024-08-13    Annasa Rizki Kamalina   \n",
       "\n",
       "                                                Link  \\\n",
       "0  https://search.bisnis.com/link?url=https%3A%2F...   \n",
       "1  https://search.bisnis.com/link?url=https%3A%2F...   \n",
       "2  https://search.bisnis.com/link?url=https%3A%2F...   \n",
       "3  https://search.bisnis.com/link?url=https%3A%2F...   \n",
       "4  https://search.bisnis.com/link?url=https%3A%2F...   \n",
       "\n",
       "                                             Content  \n",
       "0  Bisnis.com, JAKARTA -- Presiden Joko Widodo (J...  \n",
       "1  Bisnis.com, JAKARTA – Bank Indonesia (BI) menc...  \n",
       "2  Bisnis.com, JAKARTA — Presiden Joko Widodo (Jo...  \n",
       "3  Bisnis.com, JAKARTA -- Praktisi Asuransi Syari...  \n",
       "4  Bisnis.com, JAKARTA — Menteri Keuangan Sri Mul...  "
      ]
     },
     "execution_count": 17,
     "metadata": {},
     "output_type": "execute_result"
    }
   ],
   "source": [
    "df.head()"
   ]
  }
 ],
 "metadata": {
  "kernelspec": {
   "display_name": "Python 3",
   "language": "python",
   "name": "python3"
  },
  "language_info": {
   "codemirror_mode": {
    "name": "ipython",
    "version": 3
   },
   "file_extension": ".py",
   "mimetype": "text/x-python",
   "name": "python",
   "nbconvert_exporter": "python",
   "pygments_lexer": "ipython3",
   "version": "3.10.13"
  }
 },
 "nbformat": 4,
 "nbformat_minor": 2
}
